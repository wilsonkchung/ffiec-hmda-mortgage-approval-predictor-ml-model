{
 "cells": [
  {
   "cell_type": "code",
   "execution_count": 9,
   "id": "a4912bdf",
   "metadata": {},
   "outputs": [],
   "source": [
    "import requests\n",
    "from io import StringIO"
   ]
  },
  {
   "cell_type": "code",
   "execution_count": 10,
   "id": "b998cb0d",
   "metadata": {},
   "outputs": [],
   "source": [
    "import pandas as pd"
   ]
  },
  {
   "cell_type": "code",
   "execution_count": 11,
   "id": "682612aa",
   "metadata": {},
   "outputs": [],
   "source": [
    "# Show all columns when printing a DataFrame\n",
    "pd.set_option(\"display.max_columns\", None)"
   ]
  },
  {
   "cell_type": "code",
   "execution_count": 12,
   "id": "66d0739f",
   "metadata": {},
   "outputs": [],
   "source": [
    "# Show wider text so columns don't wrap\n",
    "pd.set_option(\"display.width\", None)"
   ]
  },
  {
   "cell_type": "code",
   "execution_count": 13,
   "id": "a1ddcdda",
   "metadata": {},
   "outputs": [],
   "source": [
    "url_2022 = \"https://ffiec.cfpb.gov/v2/data-browser-api/view/nationwide/csv?years=2022&loan_purpose=1\"\n",
    "url_2023 = \"https://ffiec.cfpb.gov/v2/data-browser-api/view/nationwide/csv?years=2023&loan_purpose=1\"\n",
    "url_2024 = \"https://ffiec.cfpb.gov/v2/data-browser-api/view/nationwide/csv?years=2024&loan_purpose=1\""
   ]
  },
  {
   "cell_type": "code",
   "execution_count": 14,
   "id": "e9089e35",
   "metadata": {},
   "outputs": [],
   "source": [
    "headers = {\n",
    "    \"User-Agent\": \"Mozilla/5.0\"\n",
    "}"
   ]
  },
  {
   "cell_type": "code",
   "execution_count": 15,
   "id": "8a70dacb",
   "metadata": {},
   "outputs": [
    {
     "name": "stderr",
     "output_type": "stream",
     "text": [
      "/var/folders/v5/853tm03d4ds4l0z_4qjrndh40000gn/T/ipykernel_52401/1305237543.py:2: DtypeWarning: Columns (3,22,23,24,26,27,28,29,30,31,32,33,38,43,44,46,77,78,79,80) have mixed types. Specify dtype option on import or set low_memory=False.\n",
      "  data_2022 = pd.read_csv(StringIO(response_2022.text))\n"
     ]
    }
   ],
   "source": [
    "response_2022 = requests.get(url_2022, headers=headers)\n",
    "data_2022 = pd.read_csv(StringIO(response_2022.text))"
   ]
  },
  {
   "cell_type": "code",
   "execution_count": 16,
   "id": "a25f1896",
   "metadata": {},
   "outputs": [
    {
     "name": "stderr",
     "output_type": "stream",
     "text": [
      "/var/folders/v5/853tm03d4ds4l0z_4qjrndh40000gn/T/ipykernel_52401/2608906927.py:2: DtypeWarning: Columns (5,22,23,24,26,27,28,29,30,31,32,33,38,43,44,46,77,78,79,80) have mixed types. Specify dtype option on import or set low_memory=False.\n",
      "  data_2023 = pd.read_csv(StringIO(response_2023.text))\n"
     ]
    }
   ],
   "source": [
    "response_2023 = requests.get(url_2023, headers=headers)\n",
    "data_2023 = pd.read_csv(StringIO(response_2023.text))"
   ]
  },
  {
   "cell_type": "code",
   "execution_count": 17,
   "id": "73d3b30f",
   "metadata": {},
   "outputs": [
    {
     "name": "stderr",
     "output_type": "stream",
     "text": [
      "/var/folders/v5/853tm03d4ds4l0z_4qjrndh40000gn/T/ipykernel_52401/1557109215.py:2: DtypeWarning: Columns (5,22,23,24,26,27,28,29,30,31,32,33,38,43,44,46,77,78,79,80) have mixed types. Specify dtype option on import or set low_memory=False.\n",
      "  data_2024 = pd.read_csv(StringIO(response_2024.text))\n"
     ]
    }
   ],
   "source": [
    "response_2024 = requests.get(url_2024, headers=headers)\n",
    "data_2024 = pd.read_csv(StringIO(response_2024.text))"
   ]
  },
  {
   "cell_type": "code",
   "execution_count": 18,
   "id": "fa7110c1",
   "metadata": {},
   "outputs": [
    {
     "name": "stdout",
     "output_type": "stream",
     "text": [
      "(16099307, 99)\n",
      "(11564178, 99)\n",
      "(12229298, 99)\n"
     ]
    }
   ],
   "source": [
    "print(data_2022.shape)\n",
    "print(data_2023.shape)\n",
    "print(data_2024.shape)"
   ]
  },
  {
   "cell_type": "code",
   "execution_count": 19,
   "id": "b7068d47",
   "metadata": {},
   "outputs": [
    {
     "name": "stdout",
     "output_type": "stream",
     "text": [
      "Columns match across all years.\n"
     ]
    }
   ],
   "source": [
    "if data_2022.columns.equals(data_2023.columns) and data_2022.columns.equals(data_2024.columns):\n",
    "    print(\"Columns match across all years.\")\n",
    "else:\n",
    "    print(\"Column mismatch detected!\")"
   ]
  },
  {
   "cell_type": "code",
   "execution_count": 20,
   "id": "8047cea1",
   "metadata": {},
   "outputs": [],
   "source": [
    "data = pd.concat([data_2022, data_2023, data_2024], ignore_index=True)"
   ]
  },
  {
   "cell_type": "code",
   "execution_count": 21,
   "id": "79381d5c",
   "metadata": {},
   "outputs": [
    {
     "data": {
      "text/plain": [
       "(39892783, 99)"
      ]
     },
     "execution_count": 21,
     "metadata": {},
     "output_type": "execute_result"
    }
   ],
   "source": [
    "data.shape"
   ]
  },
  {
   "cell_type": "code",
   "execution_count": 22,
   "id": "2531eed4",
   "metadata": {},
   "outputs": [
    {
     "data": {
      "text/plain": [
       "loan_purpose\n",
       "1     21033865\n",
       "32     6526426\n",
       "31     4228661\n",
       "4      4014477\n",
       "2      3941155\n",
       "5       148199\n",
       "Name: count, dtype: int64"
      ]
     },
     "execution_count": 22,
     "metadata": {},
     "output_type": "execute_result"
    }
   ],
   "source": [
    "data[\"loan_purpose\"].value_counts()"
   ]
  },
  {
   "cell_type": "code",
   "execution_count": 23,
   "id": "7abaad58",
   "metadata": {},
   "outputs": [],
   "source": [
    "data = data[data[\"loan_purpose\"] == 1]"
   ]
  },
  {
   "cell_type": "code",
   "execution_count": 24,
   "id": "4bcbbc3d",
   "metadata": {},
   "outputs": [
    {
     "data": {
      "text/plain": [
       "(21033865, 99)"
      ]
     },
     "execution_count": 24,
     "metadata": {},
     "output_type": "execute_result"
    }
   ],
   "source": [
    "data.shape"
   ]
  },
  {
   "cell_type": "code",
   "execution_count": 25,
   "id": "80ca95d4",
   "metadata": {},
   "outputs": [
    {
     "data": {
      "text/plain": [
       "action_taken\n",
       "1    11345121\n",
       "6     3218611\n",
       "4     2734561\n",
       "3     1976161\n",
       "5      599054\n",
       "2      520559\n",
       "8      457899\n",
       "7      181899\n",
       "Name: count, dtype: int64"
      ]
     },
     "execution_count": 25,
     "metadata": {},
     "output_type": "execute_result"
    }
   ],
   "source": [
    "data[\"action_taken\"].value_counts()"
   ]
  },
  {
   "cell_type": "markdown",
   "id": "61a87448",
   "metadata": {},
   "source": [
    "**Values:**\n",
    "- 1: Loan originated\n",
    "- 2: Application approved but not accepted\n",
    "- 3: Application denied\n",
    "- 4: Application withdrawn by applicant\n",
    "- 5: File closed for incompleteness\n",
    "- 6: Purchased loan\n",
    "- 7: Preapproval request denied\n",
    "- 8: Preapproval request approved but not accepted\n",
    "\n",
    "**Values will be grouped as:**\n",
    "- 1,2,8: Approved\n",
    "- 3,7: Denied\n",
    "\n",
    "**Values to be removed:**\n",
    "- 4, 5, 6"
   ]
  },
  {
   "cell_type": "code",
   "execution_count": 26,
   "id": "544499d3",
   "metadata": {},
   "outputs": [
    {
     "data": {
      "text/plain": [
       "<Axes: xlabel='action_taken'>"
      ]
     },
     "execution_count": 26,
     "metadata": {},
     "output_type": "execute_result"
    },
    {
     "data": {
      "image/png": "[encoded data removed]",
      "text/plain": [
       "<Figure size 640x480 with 1 Axes>"
      ]
     },
     "metadata": {},
     "output_type": "display_data"
    }
   ],
   "source": [
    "data['action_taken'].value_counts().plot(kind='bar')"
   ]
  },
  {
   "cell_type": "code",
   "execution_count": 28,
   "id": "b7c36df7",
   "metadata": {},
   "outputs": [],
   "source": [
    "approved_data = data[(data['action_taken'] == 1) | (data['action_taken'] == 2) | (data['action_taken'] == 8)]\n",
    "denied_data = data[(data['action_taken'] == 3) | (data['action_taken'] == 7)]"
   ]
  },
  {
   "cell_type": "code",
   "execution_count": 29,
   "id": "9ab0d8c6",
   "metadata": {},
   "outputs": [
    {
     "name": "stdout",
     "output_type": "stream",
     "text": [
      "(12323579, 99)\n",
      "(2158060, 99)\n"
     ]
    }
   ],
   "source": [
    "print(approved_data.shape)\n",
    "print(denied_data.shape)"
   ]
  },
  {
   "cell_type": "code",
   "execution_count": 30,
   "id": "ad151445",
   "metadata": {},
   "outputs": [
    {
     "name": "stdout",
     "output_type": "stream",
     "text": [
      "12323579\n",
      "2158060\n"
     ]
    }
   ],
   "source": [
    "#verify row count\n",
    "print(data[data['action_taken'] == 1].shape[0] + data[data['action_taken'] == 2].shape[0] + data[data['action_taken'] == 8].shape[0])\n",
    "print(data[data['action_taken'] == 3].shape[0] + data[data['action_taken'] == 7].shape[0])"
   ]
  },
  {
   "cell_type": "code",
   "execution_count": 31,
   "id": "27cdc219",
   "metadata": {},
   "outputs": [],
   "source": [
    "df = pd.concat([approved_data, denied_data], ignore_index=True)"
   ]
  },
  {
   "cell_type": "code",
   "execution_count": 32,
   "id": "e4597392",
   "metadata": {},
   "outputs": [
    {
     "data": {
      "text/plain": [
       "(14481639, 99)"
      ]
     },
     "execution_count": 32,
     "metadata": {},
     "output_type": "execute_result"
    }
   ],
   "source": [
    "df.shape"
   ]
  },
  {
   "cell_type": "code",
   "execution_count": 33,
   "id": "584e2a4a",
   "metadata": {},
   "outputs": [
    {
     "name": "stdout",
     "output_type": "stream",
     "text": [
      "14481639\n"
     ]
    }
   ],
   "source": [
    "# verify\n",
    "print(approved_data.shape[0] + denied_data.shape[0])"
   ]
  },
  {
   "cell_type": "code",
   "execution_count": 35,
   "id": "4a1c5b29",
   "metadata": {},
   "outputs": [
    {
     "name": "stdout",
     "output_type": "stream",
     "text": [
      "Rows removed: 6,552,226\n"
     ]
    }
   ],
   "source": [
    "# Amout of rows removed because of application incompleteness, withdrawal, or other reasons\n",
    "row_removed = data.shape[0] - df.shape[0]\n",
    "print(f\"Rows removed: {row_removed:,}\")"
   ]
  },
  {
   "cell_type": "code",
   "execution_count": 37,
   "id": "d4403d6b",
   "metadata": {},
   "outputs": [
    {
     "data": {
      "text/html": [
       "<div>\n",
       "<style scoped>\n",
       "    .dataframe tbody tr th:only-of-type {\n",
       "        vertical-align: middle;\n",
       "    }\n",
       "\n",
       "    .dataframe tbody tr th {\n",
       "        vertical-align: top;\n",
       "    }\n",
       "\n",
       "    .dataframe thead th {\n",
       "        text-align: right;\n",
       "    }\n",
       "</style>\n",
       "<table border=\"1\" class=\"dataframe\">\n",
       "  <thead>\n",
       "    <tr style=\"text-align: right;\">\n",
       "      <th></th>\n",
       "      <th>activity_year</th>\n",
       "      <th>lei</th>\n",
       "      <th>derived_msa-md</th>\n",
       "      <th>state_code</th>\n",
       "      <th>county_code</th>\n",
       "      <th>census_tract</th>\n",
       "      <th>conforming_loan_limit</th>\n",
       "      <th>derived_loan_product_type</th>\n",
       "      <th>derived_dwelling_category</th>\n",
       "      <th>derived_ethnicity</th>\n",
       "      <th>derived_race</th>\n",
       "      <th>derived_sex</th>\n",
       "      <th>action_taken</th>\n",
       "      <th>purchaser_type</th>\n",
       "      <th>preapproval</th>\n",
       "      <th>loan_type</th>\n",
       "      <th>loan_purpose</th>\n",
       "      <th>lien_status</th>\n",
       "      <th>reverse_mortgage</th>\n",
       "      <th>open-end_line_of_credit</th>\n",
       "      <th>business_or_commercial_purpose</th>\n",
       "      <th>loan_amount</th>\n",
       "      <th>loan_to_value_ratio</th>\n",
       "      <th>interest_rate</th>\n",
       "      <th>rate_spread</th>\n",
       "      <th>hoepa_status</th>\n",
       "      <th>total_loan_costs</th>\n",
       "      <th>total_points_and_fees</th>\n",
       "      <th>origination_charges</th>\n",
       "      <th>discount_points</th>\n",
       "      <th>lender_credits</th>\n",
       "      <th>loan_term</th>\n",
       "      <th>prepayment_penalty_term</th>\n",
       "      <th>intro_rate_period</th>\n",
       "      <th>negative_amortization</th>\n",
       "      <th>interest_only_payment</th>\n",
       "      <th>balloon_payment</th>\n",
       "      <th>other_nonamortizing_features</th>\n",
       "      <th>property_value</th>\n",
       "      <th>construction_method</th>\n",
       "      <th>occupancy_type</th>\n",
       "      <th>manufactured_home_secured_property_type</th>\n",
       "      <th>manufactured_home_land_property_interest</th>\n",
       "      <th>total_units</th>\n",
       "      <th>multifamily_affordable_units</th>\n",
       "      <th>income</th>\n",
       "      <th>debt_to_income_ratio</th>\n",
       "      <th>applicant_credit_score_type</th>\n",
       "      <th>co-applicant_credit_score_type</th>\n",
       "      <th>applicant_ethnicity-1</th>\n",
       "      <th>applicant_ethnicity-2</th>\n",
       "      <th>applicant_ethnicity-3</th>\n",
       "      <th>applicant_ethnicity-4</th>\n",
       "      <th>applicant_ethnicity-5</th>\n",
       "      <th>co-applicant_ethnicity-1</th>\n",
       "      <th>co-applicant_ethnicity-2</th>\n",
       "      <th>co-applicant_ethnicity-3</th>\n",
       "      <th>co-applicant_ethnicity-4</th>\n",
       "      <th>co-applicant_ethnicity-5</th>\n",
       "      <th>applicant_ethnicity_observed</th>\n",
       "      <th>co-applicant_ethnicity_observed</th>\n",
       "      <th>applicant_race-1</th>\n",
       "      <th>applicant_race-2</th>\n",
       "      <th>applicant_race-3</th>\n",
       "      <th>applicant_race-4</th>\n",
       "      <th>applicant_race-5</th>\n",
       "      <th>co-applicant_race-1</th>\n",
       "      <th>co-applicant_race-2</th>\n",
       "      <th>co-applicant_race-3</th>\n",
       "      <th>co-applicant_race-4</th>\n",
       "      <th>co-applicant_race-5</th>\n",
       "      <th>applicant_race_observed</th>\n",
       "      <th>co-applicant_race_observed</th>\n",
       "      <th>applicant_sex</th>\n",
       "      <th>co-applicant_sex</th>\n",
       "      <th>applicant_sex_observed</th>\n",
       "      <th>co-applicant_sex_observed</th>\n",
       "      <th>applicant_age</th>\n",
       "      <th>co-applicant_age</th>\n",
       "      <th>applicant_age_above_62</th>\n",
       "      <th>co-applicant_age_above_62</th>\n",
       "      <th>submission_of_application</th>\n",
       "      <th>initially_payable_to_institution</th>\n",
       "      <th>aus-1</th>\n",
       "      <th>aus-2</th>\n",
       "      <th>aus-3</th>\n",
       "      <th>aus-4</th>\n",
       "      <th>aus-5</th>\n",
       "      <th>denial_reason-1</th>\n",
       "      <th>denial_reason-2</th>\n",
       "      <th>denial_reason-3</th>\n",
       "      <th>denial_reason-4</th>\n",
       "      <th>tract_population</th>\n",
       "      <th>tract_minority_population_percent</th>\n",
       "      <th>ffiec_msa_md_median_family_income</th>\n",
       "      <th>tract_to_msa_income_percentage</th>\n",
       "      <th>tract_owner_occupied_units</th>\n",
       "      <th>tract_one_to_four_family_homes</th>\n",
       "      <th>tract_median_age_of_housing_units</th>\n",
       "    </tr>\n",
       "  </thead>\n",
       "  <tbody>\n",
       "    <tr>\n",
       "      <th>0</th>\n",
       "      <td>2022</td>\n",
       "      <td>254900ACUWEGW702BR80</td>\n",
       "      <td>35614</td>\n",
       "      <td>NY</td>\n",
       "      <td>36061.0</td>\n",
       "      <td>36061016002.0</td>\n",
       "      <td>C</td>\n",
       "      <td>Conventional:First Lien</td>\n",
       "      <td>Single Family (1-4 Units):Site-Built</td>\n",
       "      <td>Not Hispanic or Latino</td>\n",
       "      <td>White</td>\n",
       "      <td>Joint</td>\n",
       "      <td>1</td>\n",
       "      <td>6</td>\n",
       "      <td>2</td>\n",
       "      <td>1</td>\n",
       "      <td>1</td>\n",
       "      <td>1</td>\n",
       "      <td>2</td>\n",
       "      <td>2</td>\n",
       "      <td>2</td>\n",
       "      <td>415000.0</td>\n",
       "      <td>69.5</td>\n",
       "      <td>5.375</td>\n",
       "      <td>0.407</td>\n",
       "      <td>2</td>\n",
       "      <td>9962.19</td>\n",
       "      <td>NaN</td>\n",
       "      <td>7745.0</td>\n",
       "      <td>6255.0</td>\n",
       "      <td>NaN</td>\n",
       "      <td>360.0</td>\n",
       "      <td>NaN</td>\n",
       "      <td>NaN</td>\n",
       "      <td>2</td>\n",
       "      <td>2</td>\n",
       "      <td>2</td>\n",
       "      <td>2</td>\n",
       "      <td>605000.0</td>\n",
       "      <td>1</td>\n",
       "      <td>1</td>\n",
       "      <td>3</td>\n",
       "      <td>5</td>\n",
       "      <td>1</td>\n",
       "      <td>NaN</td>\n",
       "      <td>118.0</td>\n",
       "      <td>NaN</td>\n",
       "      <td>2</td>\n",
       "      <td>9</td>\n",
       "      <td>2.0</td>\n",
       "      <td>NaN</td>\n",
       "      <td>NaN</td>\n",
       "      <td>NaN</td>\n",
       "      <td>NaN</td>\n",
       "      <td>2.0</td>\n",
       "      <td>NaN</td>\n",
       "      <td>NaN</td>\n",
       "      <td>NaN</td>\n",
       "      <td>NaN</td>\n",
       "      <td>2</td>\n",
       "      <td>2</td>\n",
       "      <td>5.0</td>\n",
       "      <td>NaN</td>\n",
       "      <td>NaN</td>\n",
       "      <td>NaN</td>\n",
       "      <td>NaN</td>\n",
       "      <td>5.0</td>\n",
       "      <td>NaN</td>\n",
       "      <td>NaN</td>\n",
       "      <td>NaN</td>\n",
       "      <td>NaN</td>\n",
       "      <td>2</td>\n",
       "      <td>2</td>\n",
       "      <td>2</td>\n",
       "      <td>1</td>\n",
       "      <td>2</td>\n",
       "      <td>2</td>\n",
       "      <td>65-74</td>\n",
       "      <td>65-74</td>\n",
       "      <td>Yes</td>\n",
       "      <td>Yes</td>\n",
       "      <td>1</td>\n",
       "      <td>1</td>\n",
       "      <td>2</td>\n",
       "      <td>NaN</td>\n",
       "      <td>NaN</td>\n",
       "      <td>NaN</td>\n",
       "      <td>NaN</td>\n",
       "      <td>10</td>\n",
       "      <td>NaN</td>\n",
       "      <td>NaN</td>\n",
       "      <td>NaN</td>\n",
       "      <td>3607</td>\n",
       "      <td>36.57</td>\n",
       "      <td>99000</td>\n",
       "      <td>152.12</td>\n",
       "      <td>440</td>\n",
       "      <td>55</td>\n",
       "      <td>0</td>\n",
       "    </tr>\n",
       "    <tr>\n",
       "      <th>1</th>\n",
       "      <td>2022</td>\n",
       "      <td>254900ACUWEGW702BR80</td>\n",
       "      <td>35614</td>\n",
       "      <td>NY</td>\n",
       "      <td>36081.0</td>\n",
       "      <td>36081071100.0</td>\n",
       "      <td>C</td>\n",
       "      <td>Conventional:First Lien</td>\n",
       "      <td>Single Family (1-4 Units):Site-Built</td>\n",
       "      <td>Not Hispanic or Latino</td>\n",
       "      <td>White</td>\n",
       "      <td>Female</td>\n",
       "      <td>1</td>\n",
       "      <td>0</td>\n",
       "      <td>2</td>\n",
       "      <td>1</td>\n",
       "      <td>1</td>\n",
       "      <td>1</td>\n",
       "      <td>2</td>\n",
       "      <td>2</td>\n",
       "      <td>2</td>\n",
       "      <td>655000.0</td>\n",
       "      <td>76.471</td>\n",
       "      <td>5.0</td>\n",
       "      <td>0.152</td>\n",
       "      <td>2</td>\n",
       "      <td>8966.72</td>\n",
       "      <td>NaN</td>\n",
       "      <td>4740.0</td>\n",
       "      <td>3250.0</td>\n",
       "      <td>NaN</td>\n",
       "      <td>360.0</td>\n",
       "      <td>NaN</td>\n",
       "      <td>84.0</td>\n",
       "      <td>2</td>\n",
       "      <td>2</td>\n",
       "      <td>2</td>\n",
       "      <td>2</td>\n",
       "      <td>865000.0</td>\n",
       "      <td>1</td>\n",
       "      <td>1</td>\n",
       "      <td>3</td>\n",
       "      <td>5</td>\n",
       "      <td>1</td>\n",
       "      <td>NaN</td>\n",
       "      <td>228.0</td>\n",
       "      <td>30%-&lt;36%</td>\n",
       "      <td>2</td>\n",
       "      <td>9</td>\n",
       "      <td>2.0</td>\n",
       "      <td>NaN</td>\n",
       "      <td>NaN</td>\n",
       "      <td>NaN</td>\n",
       "      <td>NaN</td>\n",
       "      <td>5.0</td>\n",
       "      <td>NaN</td>\n",
       "      <td>NaN</td>\n",
       "      <td>NaN</td>\n",
       "      <td>NaN</td>\n",
       "      <td>2</td>\n",
       "      <td>4</td>\n",
       "      <td>5.0</td>\n",
       "      <td>NaN</td>\n",
       "      <td>NaN</td>\n",
       "      <td>NaN</td>\n",
       "      <td>NaN</td>\n",
       "      <td>8.0</td>\n",
       "      <td>NaN</td>\n",
       "      <td>NaN</td>\n",
       "      <td>NaN</td>\n",
       "      <td>NaN</td>\n",
       "      <td>2</td>\n",
       "      <td>4</td>\n",
       "      <td>2</td>\n",
       "      <td>5</td>\n",
       "      <td>2</td>\n",
       "      <td>4</td>\n",
       "      <td>25-34</td>\n",
       "      <td>9999</td>\n",
       "      <td>No</td>\n",
       "      <td>NaN</td>\n",
       "      <td>1</td>\n",
       "      <td>1</td>\n",
       "      <td>1</td>\n",
       "      <td>NaN</td>\n",
       "      <td>NaN</td>\n",
       "      <td>NaN</td>\n",
       "      <td>NaN</td>\n",
       "      <td>10</td>\n",
       "      <td>NaN</td>\n",
       "      <td>NaN</td>\n",
       "      <td>NaN</td>\n",
       "      <td>5687</td>\n",
       "      <td>55.57</td>\n",
       "      <td>99000</td>\n",
       "      <td>132.73</td>\n",
       "      <td>1769</td>\n",
       "      <td>597</td>\n",
       "      <td>65</td>\n",
       "    </tr>\n",
       "  </tbody>\n",
       "</table>\n",
       "</div>"
      ],
      "text/plain": [
       "   activity_year                   lei  derived_msa-md state_code  \\\n",
       "0           2022  254900ACUWEGW702BR80           35614         NY   \n",
       "1           2022  254900ACUWEGW702BR80           35614         NY   \n",
       "\n",
       "   county_code   census_tract conforming_loan_limit derived_loan_product_type  \\\n",
       "0      36061.0  36061016002.0                     C   Conventional:First Lien   \n",
       "1      36081.0  36081071100.0                     C   Conventional:First Lien   \n",
       "\n",
       "              derived_dwelling_category       derived_ethnicity derived_race  \\\n",
       "0  Single Family (1-4 Units):Site-Built  Not Hispanic or Latino        White   \n",
       "1  Single Family (1-4 Units):Site-Built  Not Hispanic or Latino        White   \n",
       "\n",
       "  derived_sex  action_taken  purchaser_type  preapproval  loan_type  \\\n",
       "0       Joint             1               6            2          1   \n",
       "1      Female             1               0            2          1   \n",
       "\n",
       "   loan_purpose  lien_status  reverse_mortgage  open-end_line_of_credit  \\\n",
       "0             1            1                 2                        2   \n",
       "1             1            1                 2                        2   \n",
       "\n",
       "   business_or_commercial_purpose  loan_amount loan_to_value_ratio  \\\n",
       "0                               2     415000.0                69.5   \n",
       "1                               2     655000.0              76.471   \n",
       "\n",
       "  interest_rate rate_spread  hoepa_status total_loan_costs  \\\n",
       "0         5.375       0.407             2          9962.19   \n",
       "1           5.0       0.152             2          8966.72   \n",
       "\n",
       "  total_points_and_fees origination_charges discount_points lender_credits  \\\n",
       "0                   NaN              7745.0          6255.0            NaN   \n",
       "1                   NaN              4740.0          3250.0            NaN   \n",
       "\n",
       "  loan_term prepayment_penalty_term intro_rate_period  negative_amortization  \\\n",
       "0     360.0                     NaN               NaN                      2   \n",
       "1     360.0                     NaN              84.0                      2   \n",
       "\n",
       "   interest_only_payment  balloon_payment  other_nonamortizing_features  \\\n",
       "0                      2                2                             2   \n",
       "1                      2                2                             2   \n",
       "\n",
       "  property_value  construction_method  occupancy_type  \\\n",
       "0       605000.0                    1               1   \n",
       "1       865000.0                    1               1   \n",
       "\n",
       "   manufactured_home_secured_property_type  \\\n",
       "0                                        3   \n",
       "1                                        3   \n",
       "\n",
       "   manufactured_home_land_property_interest total_units  \\\n",
       "0                                         5           1   \n",
       "1                                         5           1   \n",
       "\n",
       "  multifamily_affordable_units  income debt_to_income_ratio  \\\n",
       "0                          NaN   118.0                  NaN   \n",
       "1                          NaN   228.0             30%-<36%   \n",
       "\n",
       "   applicant_credit_score_type  co-applicant_credit_score_type  \\\n",
       "0                            2                               9   \n",
       "1                            2                               9   \n",
       "\n",
       "   applicant_ethnicity-1  applicant_ethnicity-2  applicant_ethnicity-3  \\\n",
       "0                    2.0                    NaN                    NaN   \n",
       "1                    2.0                    NaN                    NaN   \n",
       "\n",
       "   applicant_ethnicity-4  applicant_ethnicity-5  co-applicant_ethnicity-1  \\\n",
       "0                    NaN                    NaN                       2.0   \n",
       "1                    NaN                    NaN                       5.0   \n",
       "\n",
       "   co-applicant_ethnicity-2  co-applicant_ethnicity-3  \\\n",
       "0                       NaN                       NaN   \n",
       "1                       NaN                       NaN   \n",
       "\n",
       "   co-applicant_ethnicity-4  co-applicant_ethnicity-5  \\\n",
       "0                       NaN                       NaN   \n",
       "1                       NaN                       NaN   \n",
       "\n",
       "   applicant_ethnicity_observed  co-applicant_ethnicity_observed  \\\n",
       "0                             2                                2   \n",
       "1                             2                                4   \n",
       "\n",
       "   applicant_race-1  applicant_race-2  applicant_race-3  applicant_race-4  \\\n",
       "0               5.0               NaN               NaN               NaN   \n",
       "1               5.0               NaN               NaN               NaN   \n",
       "\n",
       "   applicant_race-5  co-applicant_race-1  co-applicant_race-2  \\\n",
       "0               NaN                  5.0                  NaN   \n",
       "1               NaN                  8.0                  NaN   \n",
       "\n",
       "   co-applicant_race-3  co-applicant_race-4  co-applicant_race-5  \\\n",
       "0                  NaN                  NaN                  NaN   \n",
       "1                  NaN                  NaN                  NaN   \n",
       "\n",
       "   applicant_race_observed  co-applicant_race_observed  applicant_sex  \\\n",
       "0                        2                           2              2   \n",
       "1                        2                           4              2   \n",
       "\n",
       "   co-applicant_sex  applicant_sex_observed  co-applicant_sex_observed  \\\n",
       "0                 1                       2                          2   \n",
       "1                 5                       2                          4   \n",
       "\n",
       "  applicant_age co-applicant_age applicant_age_above_62  \\\n",
       "0         65-74            65-74                    Yes   \n",
       "1         25-34             9999                     No   \n",
       "\n",
       "  co-applicant_age_above_62  submission_of_application  \\\n",
       "0                       Yes                          1   \n",
       "1                       NaN                          1   \n",
       "\n",
       "   initially_payable_to_institution  aus-1  aus-2  aus-3  aus-4  aus-5  \\\n",
       "0                                 1      2    NaN    NaN    NaN    NaN   \n",
       "1                                 1      1    NaN    NaN    NaN    NaN   \n",
       "\n",
       "   denial_reason-1  denial_reason-2  denial_reason-3  denial_reason-4  \\\n",
       "0               10              NaN              NaN              NaN   \n",
       "1               10              NaN              NaN              NaN   \n",
       "\n",
       "   tract_population  tract_minority_population_percent  \\\n",
       "0              3607                              36.57   \n",
       "1              5687                              55.57   \n",
       "\n",
       "   ffiec_msa_md_median_family_income  tract_to_msa_income_percentage  \\\n",
       "0                              99000                          152.12   \n",
       "1                              99000                          132.73   \n",
       "\n",
       "   tract_owner_occupied_units  tract_one_to_four_family_homes  \\\n",
       "0                         440                              55   \n",
       "1                        1769                             597   \n",
       "\n",
       "   tract_median_age_of_housing_units  \n",
       "0                                  0  \n",
       "1                                 65  "
      ]
     },
     "execution_count": 37,
     "metadata": {},
     "output_type": "execute_result"
    }
   ],
   "source": [
    "df.head(2)"
   ]
  },
  {
   "cell_type": "code",
   "execution_count": 52,
   "id": "f85b22f0",
   "metadata": {},
   "outputs": [],
   "source": [
    "columns_to_keep = [\n",
    "    'state_code', 'county_code', 'derived_loan_product_type', 'derived_dwelling_category', 'derived_ethnicity', 'derived_race', 'derived_sex', 'action_taken', 'purchaser_type', \n",
    "    'loan_type', 'loan_amount', 'interest_rate', 'total_loan_costs', 'loan_term', 'property_value', 'construction_method', 'occupancy_type', \n",
    "    'manufactured_home_secured_property_type', 'manufactured_home_land_property_interest', 'total_units', 'income', 'debt_to_income_ratio', \n",
    "    'applicant_credit_score_type', 'applicant_race-1', 'applicant_sex', 'applicant_age', 'applicant_age_above_62', 'denial_reason-1'\n",
    "]"
   ]
  },
  {
   "cell_type": "code",
   "execution_count": 53,
   "id": "3ceb0227",
   "metadata": {},
   "outputs": [],
   "source": [
    "df = df[columns_to_keep]"
   ]
  },
  {
   "cell_type": "code",
   "execution_count": 54,
   "id": "8e70c4f5",
   "metadata": {},
   "outputs": [
    {
     "data": {
      "text/plain": [
       "(14481639, 28)"
      ]
     },
     "execution_count": 54,
     "metadata": {},
     "output_type": "execute_result"
    }
   ],
   "source": [
    "df.shape"
   ]
  },
  {
   "cell_type": "code",
   "execution_count": 64,
   "id": "861c782b",
   "metadata": {},
   "outputs": [],
   "source": [
    "# 1 = approved, 0 = denied\n",
    "df.loc[(df['action_taken']==2) | (df['action_taken']==8), 'action_taken'] = 1\n",
    "df.loc[(df['action_taken']==3) | (df['action_taken']==7), 'action_taken'] = 0"
   ]
  },
  {
   "cell_type": "code",
   "execution_count": 65,
   "id": "9b449255",
   "metadata": {},
   "outputs": [
    {
     "data": {
      "text/plain": [
       "action_taken\n",
       "1    12323579\n",
       "0     2158060\n",
       "Name: count, dtype: int64"
      ]
     },
     "execution_count": 65,
     "metadata": {},
     "output_type": "execute_result"
    }
   ],
   "source": [
    "df['action_taken'].value_counts()"
   ]
  },
  {
   "cell_type": "code",
   "execution_count": 66,
   "id": "f20d5ef6",
   "metadata": {},
   "outputs": [],
   "source": [
    "df.to_csv('../Step 2/df_trimmed.csv', index=False)"
   ]
  },
  {
   "cell_type": "code",
   "execution_count": 67,
   "id": "7015370b",
   "metadata": {},
   "outputs": [
    {
     "data": {
      "text/html": [
       "<div>\n",
       "<style scoped>\n",
       "    .dataframe tbody tr th:only-of-type {\n",
       "        vertical-align: middle;\n",
       "    }\n",
       "\n",
       "    .dataframe tbody tr th {\n",
       "        vertical-align: top;\n",
       "    }\n",
       "\n",
       "    .dataframe thead th {\n",
       "        text-align: right;\n",
       "    }\n",
       "</style>\n",
       "<table border=\"1\" class=\"dataframe\">\n",
       "  <thead>\n",
       "    <tr style=\"text-align: right;\">\n",
       "      <th></th>\n",
       "      <th>state_code</th>\n",
       "      <th>county_code</th>\n",
       "      <th>derived_loan_product_type</th>\n",
       "      <th>derived_dwelling_category</th>\n",
       "      <th>derived_ethnicity</th>\n",
       "      <th>derived_race</th>\n",
       "      <th>derived_sex</th>\n",
       "      <th>action_taken</th>\n",
       "      <th>purchaser_type</th>\n",
       "      <th>loan_type</th>\n",
       "      <th>loan_amount</th>\n",
       "      <th>interest_rate</th>\n",
       "      <th>total_loan_costs</th>\n",
       "      <th>loan_term</th>\n",
       "      <th>property_value</th>\n",
       "      <th>construction_method</th>\n",
       "      <th>occupancy_type</th>\n",
       "      <th>manufactured_home_secured_property_type</th>\n",
       "      <th>manufactured_home_land_property_interest</th>\n",
       "      <th>total_units</th>\n",
       "      <th>income</th>\n",
       "      <th>debt_to_income_ratio</th>\n",
       "      <th>applicant_credit_score_type</th>\n",
       "      <th>applicant_race-1</th>\n",
       "      <th>applicant_sex</th>\n",
       "      <th>applicant_age</th>\n",
       "      <th>applicant_age_above_62</th>\n",
       "      <th>denial_reason-1</th>\n",
       "    </tr>\n",
       "  </thead>\n",
       "  <tbody>\n",
       "    <tr>\n",
       "      <th>0</th>\n",
       "      <td>NY</td>\n",
       "      <td>36061.0</td>\n",
       "      <td>Conventional:First Lien</td>\n",
       "      <td>Single Family (1-4 Units):Site-Built</td>\n",
       "      <td>Not Hispanic or Latino</td>\n",
       "      <td>White</td>\n",
       "      <td>Joint</td>\n",
       "      <td>1</td>\n",
       "      <td>6</td>\n",
       "      <td>1</td>\n",
       "      <td>415000.0</td>\n",
       "      <td>5.375</td>\n",
       "      <td>9962.19</td>\n",
       "      <td>360.0</td>\n",
       "      <td>605000.0</td>\n",
       "      <td>1</td>\n",
       "      <td>1</td>\n",
       "      <td>3</td>\n",
       "      <td>5</td>\n",
       "      <td>1</td>\n",
       "      <td>118.0</td>\n",
       "      <td>NaN</td>\n",
       "      <td>2</td>\n",
       "      <td>5.0</td>\n",
       "      <td>2</td>\n",
       "      <td>65-74</td>\n",
       "      <td>Yes</td>\n",
       "      <td>10</td>\n",
       "    </tr>\n",
       "    <tr>\n",
       "      <th>1</th>\n",
       "      <td>NY</td>\n",
       "      <td>36081.0</td>\n",
       "      <td>Conventional:First Lien</td>\n",
       "      <td>Single Family (1-4 Units):Site-Built</td>\n",
       "      <td>Not Hispanic or Latino</td>\n",
       "      <td>White</td>\n",
       "      <td>Female</td>\n",
       "      <td>1</td>\n",
       "      <td>0</td>\n",
       "      <td>1</td>\n",
       "      <td>655000.0</td>\n",
       "      <td>5.0</td>\n",
       "      <td>8966.72</td>\n",
       "      <td>360.0</td>\n",
       "      <td>865000.0</td>\n",
       "      <td>1</td>\n",
       "      <td>1</td>\n",
       "      <td>3</td>\n",
       "      <td>5</td>\n",
       "      <td>1</td>\n",
       "      <td>228.0</td>\n",
       "      <td>30%-&lt;36%</td>\n",
       "      <td>2</td>\n",
       "      <td>5.0</td>\n",
       "      <td>2</td>\n",
       "      <td>25-34</td>\n",
       "      <td>No</td>\n",
       "      <td>10</td>\n",
       "    </tr>\n",
       "    <tr>\n",
       "      <th>2</th>\n",
       "      <td>NJ</td>\n",
       "      <td>34025.0</td>\n",
       "      <td>Conventional:First Lien</td>\n",
       "      <td>Single Family (1-4 Units):Site-Built</td>\n",
       "      <td>Not Hispanic or Latino</td>\n",
       "      <td>White</td>\n",
       "      <td>Male</td>\n",
       "      <td>1</td>\n",
       "      <td>0</td>\n",
       "      <td>1</td>\n",
       "      <td>455000.0</td>\n",
       "      <td>5.875</td>\n",
       "      <td>NaN</td>\n",
       "      <td>360.0</td>\n",
       "      <td>805000.0</td>\n",
       "      <td>1</td>\n",
       "      <td>3</td>\n",
       "      <td>3</td>\n",
       "      <td>5</td>\n",
       "      <td>1</td>\n",
       "      <td>169.0</td>\n",
       "      <td>20%-&lt;30%</td>\n",
       "      <td>1</td>\n",
       "      <td>5.0</td>\n",
       "      <td>1</td>\n",
       "      <td>35-44</td>\n",
       "      <td>No</td>\n",
       "      <td>10</td>\n",
       "    </tr>\n",
       "    <tr>\n",
       "      <th>3</th>\n",
       "      <td>NJ</td>\n",
       "      <td>34029.0</td>\n",
       "      <td>Conventional:First Lien</td>\n",
       "      <td>Single Family (1-4 Units):Site-Built</td>\n",
       "      <td>Not Hispanic or Latino</td>\n",
       "      <td>White</td>\n",
       "      <td>Joint</td>\n",
       "      <td>1</td>\n",
       "      <td>6</td>\n",
       "      <td>1</td>\n",
       "      <td>365000.0</td>\n",
       "      <td>4.125</td>\n",
       "      <td>NaN</td>\n",
       "      <td>360.0</td>\n",
       "      <td>575000.0</td>\n",
       "      <td>1</td>\n",
       "      <td>3</td>\n",
       "      <td>3</td>\n",
       "      <td>5</td>\n",
       "      <td>1</td>\n",
       "      <td>238.0</td>\n",
       "      <td>46</td>\n",
       "      <td>1</td>\n",
       "      <td>5.0</td>\n",
       "      <td>1</td>\n",
       "      <td>35-44</td>\n",
       "      <td>No</td>\n",
       "      <td>10</td>\n",
       "    </tr>\n",
       "    <tr>\n",
       "      <th>4</th>\n",
       "      <td>NY</td>\n",
       "      <td>36059.0</td>\n",
       "      <td>Conventional:First Lien</td>\n",
       "      <td>Single Family (1-4 Units):Site-Built</td>\n",
       "      <td>Not Hispanic or Latino</td>\n",
       "      <td>White</td>\n",
       "      <td>Joint</td>\n",
       "      <td>1</td>\n",
       "      <td>0</td>\n",
       "      <td>1</td>\n",
       "      <td>785000.0</td>\n",
       "      <td>5.375</td>\n",
       "      <td>9895.94</td>\n",
       "      <td>360.0</td>\n",
       "      <td>875000.0</td>\n",
       "      <td>1</td>\n",
       "      <td>1</td>\n",
       "      <td>3</td>\n",
       "      <td>5</td>\n",
       "      <td>1</td>\n",
       "      <td>158.0</td>\n",
       "      <td>42</td>\n",
       "      <td>3</td>\n",
       "      <td>5.0</td>\n",
       "      <td>1</td>\n",
       "      <td>35-44</td>\n",
       "      <td>No</td>\n",
       "      <td>10</td>\n",
       "    </tr>\n",
       "  </tbody>\n",
       "</table>\n",
       "</div>"
      ],
      "text/plain": [
       "  state_code  county_code derived_loan_product_type  \\\n",
       "0         NY      36061.0   Conventional:First Lien   \n",
       "1         NY      36081.0   Conventional:First Lien   \n",
       "2         NJ      34025.0   Conventional:First Lien   \n",
       "3         NJ      34029.0   Conventional:First Lien   \n",
       "4         NY      36059.0   Conventional:First Lien   \n",
       "\n",
       "              derived_dwelling_category       derived_ethnicity derived_race  \\\n",
       "0  Single Family (1-4 Units):Site-Built  Not Hispanic or Latino        White   \n",
       "1  Single Family (1-4 Units):Site-Built  Not Hispanic or Latino        White   \n",
       "2  Single Family (1-4 Units):Site-Built  Not Hispanic or Latino        White   \n",
       "3  Single Family (1-4 Units):Site-Built  Not Hispanic or Latino        White   \n",
       "4  Single Family (1-4 Units):Site-Built  Not Hispanic or Latino        White   \n",
       "\n",
       "  derived_sex  action_taken  purchaser_type  loan_type  loan_amount  \\\n",
       "0       Joint             1               6          1     415000.0   \n",
       "1      Female             1               0          1     655000.0   \n",
       "2        Male             1               0          1     455000.0   \n",
       "3       Joint             1               6          1     365000.0   \n",
       "4       Joint             1               0          1     785000.0   \n",
       "\n",
       "  interest_rate total_loan_costs loan_term property_value  \\\n",
       "0         5.375          9962.19     360.0       605000.0   \n",
       "1           5.0          8966.72     360.0       865000.0   \n",
       "2         5.875              NaN     360.0       805000.0   \n",
       "3         4.125              NaN     360.0       575000.0   \n",
       "4         5.375          9895.94     360.0       875000.0   \n",
       "\n",
       "   construction_method  occupancy_type  \\\n",
       "0                    1               1   \n",
       "1                    1               1   \n",
       "2                    1               3   \n",
       "3                    1               3   \n",
       "4                    1               1   \n",
       "\n",
       "   manufactured_home_secured_property_type  \\\n",
       "0                                        3   \n",
       "1                                        3   \n",
       "2                                        3   \n",
       "3                                        3   \n",
       "4                                        3   \n",
       "\n",
       "   manufactured_home_land_property_interest total_units  income  \\\n",
       "0                                         5           1   118.0   \n",
       "1                                         5           1   228.0   \n",
       "2                                         5           1   169.0   \n",
       "3                                         5           1   238.0   \n",
       "4                                         5           1   158.0   \n",
       "\n",
       "  debt_to_income_ratio  applicant_credit_score_type  applicant_race-1  \\\n",
       "0                  NaN                            2               5.0   \n",
       "1             30%-<36%                            2               5.0   \n",
       "2             20%-<30%                            1               5.0   \n",
       "3                   46                            1               5.0   \n",
       "4                   42                            3               5.0   \n",
       "\n",
       "   applicant_sex applicant_age applicant_age_above_62  denial_reason-1  \n",
       "0              2         65-74                    Yes               10  \n",
       "1              2         25-34                     No               10  \n",
       "2              1         35-44                     No               10  \n",
       "3              1         35-44                     No               10  \n",
       "4              1         35-44                     No               10  "
      ]
     },
     "execution_count": 67,
     "metadata": {},
     "output_type": "execute_result"
    }
   ],
   "source": [
    "df.head()"
   ]
  },
  {
   "cell_type": "code",
   "execution_count": 69,
   "id": "f05e5a3a",
   "metadata": {},
   "outputs": [
    {
     "data": {
      "text/plain": [
       "(14481639, 28)"
      ]
     },
     "execution_count": 69,
     "metadata": {},
     "output_type": "execute_result"
    }
   ],
   "source": [
    "df.shape"
   ]
  },
  {
   "cell_type": "code",
   "execution_count": null,
   "id": "3d487ed0",
   "metadata": {},
   "outputs": [],
   "source": []
  }
 ],
 "metadata": {
  "kernelspec": {
   "display_name": ".venv",
   "language": "python",
   "name": "python3"
  },
  "language_info": {
   "codemirror_mode": {
    "name": "ipython",
    "version": 3
   },
   "file_extension": ".py",
   "mimetype": "text/x-python",
   "name": "python",
   "nbconvert_exporter": "python",
   "pygments_lexer": "ipython3",
   "version": "3.13.7"
  }
 },
 "nbformat": 4,
 "nbformat_minor": 5
}
