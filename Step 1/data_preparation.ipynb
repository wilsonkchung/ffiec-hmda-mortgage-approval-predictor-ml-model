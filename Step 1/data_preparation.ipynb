{
 "cells": [
  {
   "cell_type": "code",
   "execution_count": 9,
   "id": "a4912bdf",
   "metadata": {},
   "outputs": [],
   "source": [
    "import requests\n",
    "from io import StringIO"
   ]
  },
  {
   "cell_type": "code",
   "execution_count": 10,
   "id": "b998cb0d",
   "metadata": {},
   "outputs": [],
   "source": [
    "import pandas as pd"
   ]
  },
  {
   "cell_type": "code",
   "execution_count": 11,
   "id": "682612aa",
   "metadata": {},
   "outputs": [],
   "source": [
    "# Show all columns when printing a DataFrame\n",
    "pd.set_option(\"display.max_columns\", None)"
   ]
  },
  {
   "cell_type": "code",
   "execution_count": 12,
   "id": "66d0739f",
   "metadata": {},
   "outputs": [],
   "source": [
    "# Show wider text so columns don't wrap\n",
    "pd.set_option(\"display.width\", None)"
   ]
  },
  {
   "cell_type": "code",
   "execution_count": 13,
   "id": "a1ddcdda",
   "metadata": {},
   "outputs": [],
   "source": [
    "url_2022 = \"https://ffiec.cfpb.gov/v2/data-browser-api/view/nationwide/csv?years=2022&loan_purpose=1\"\n",
    "url_2023 = \"https://ffiec.cfpb.gov/v2/data-browser-api/view/nationwide/csv?years=2023&loan_purpose=1\"\n",
    "url_2024 = \"https://ffiec.cfpb.gov/v2/data-browser-api/view/nationwide/csv?years=2024&loan_purpose=1\""
   ]
  },
  {
   "cell_type": "code",
   "execution_count": 14,
   "id": "e9089e35",
   "metadata": {},
   "outputs": [],
   "source": [
    "headers = {\n",
    "    \"User-Agent\": \"Mozilla/5.0\"\n",
    "}"
   ]
  },
  {
   "cell_type": "code",
   "execution_count": 15,
   "id": "8a70dacb",
   "metadata": {},
   "outputs": [
    {
     "name": "stderr",
     "output_type": "stream",
     "text": [
      "/var/folders/v5/853tm03d4ds4l0z_4qjrndh40000gn/T/ipykernel_52401/1305237543.py:2: DtypeWarning: Columns (3,22,23,24,26,27,28,29,30,31,32,33,38,43,44,46,77,78,79,80) have mixed types. Specify dtype option on import or set low_memory=False.\n",
      "  data_2022 = pd.read_csv(StringIO(response_2022.text))\n"
     ]
    }
   ],
   "source": [
    "response_2022 = requests.get(url_2022, headers=headers)\n",
    "data_2022 = pd.read_csv(StringIO(response_2022.text))"
   ]
  },
  {
   "cell_type": "code",
   "execution_count": 16,
   "id": "a25f1896",
   "metadata": {},
   "outputs": [
    {
     "name": "stderr",
     "output_type": "stream",
     "text": [
      "/var/folders/v5/853tm03d4ds4l0z_4qjrndh40000gn/T/ipykernel_52401/2608906927.py:2: DtypeWarning: Columns (5,22,23,24,26,27,28,29,30,31,32,33,38,43,44,46,77,78,79,80) have mixed types. Specify dtype option on import or set low_memory=False.\n",
      "  data_2023 = pd.read_csv(StringIO(response_2023.text))\n"
     ]
    }
   ],
   "source": [
    "response_2023 = requests.get(url_2023, headers=headers)\n",
    "data_2023 = pd.read_csv(StringIO(response_2023.text))"
   ]
  },
  {
   "cell_type": "code",
   "execution_count": null,
   "id": "73d3b30f",
   "metadata": {},
   "outputs": [
    {
     "name": "stderr",
     "output_type": "stream",
     "text": [
      "/var/folders/v5/853tm03d4ds4l0z_4qjrndh40000gn/T/ipykernel_52401/1557109215.py:2: DtypeWarning: Columns (5,22,23,24,26,27,28,29,30,31,32,33,38,43,44,46,77,78,79,80) have mixed types. Specify dtype option on import or set low_memory=False.\n",
      "  data_2024 = pd.read_csv(StringIO(response_2024.text))\n"
     ]
    }
   ],
   "source": [
    "response_2024 = requests.get(url_2024, headers=headers)\n",
    "data_2024 = pd.read_csv(StringIO(response_2024.text))"
   ]
  },
  {
   "cell_type": "code",
   "execution_count": null,
   "id": "fa7110c1",
   "metadata": {},
   "outputs": [
    {
     "name": "stdout",
     "output_type": "stream",
     "text": [
      "(16099307, 99)\n",
      "(11564178, 99)\n",
      "(12229298, 99)\n"
     ]
    }
   ],
   "source": [
    "print(data_2022.shape)\n",
    "print(data_2023.shape)\n",
    "print(data_2024.shape)"
   ]
  },
  {
   "cell_type": "code",
   "execution_count": 11,
   "id": "b7068d47",
   "metadata": {},
   "outputs": [
    {
     "name": "stdout",
     "output_type": "stream",
     "text": [
      "Columns match across all years.\n"
     ]
    }
   ],
   "source": [
    "if data_2022.columns.equals(data_2023.columns) and data_2022.columns.equals(data_2024.columns):\n",
    "    print(\"Columns match across all years.\")\n",
    "else:\n",
    "    print(\"Column mismatch detected!\")"
   ]
  },
  {
   "cell_type": "code",
   "execution_count": 12,
   "id": "8047cea1",
   "metadata": {},
   "outputs": [],
   "source": [
    "data = pd.concat([data_2022, data_2023, data_2024], ignore_index=True)"
   ]
  },
  {
   "cell_type": "code",
   "execution_count": 13,
   "id": "79381d5c",
   "metadata": {},
   "outputs": [
    {
     "data": {
      "text/plain": [
       "(39892783, 99)"
      ]
     },
     "execution_count": 13,
     "metadata": {},
     "output_type": "execute_result"
    }
   ],
   "source": [
    "data.shape"
   ]
  },
  {
   "cell_type": "code",
   "execution_count": 14,
   "id": "80ca95d4",
   "metadata": {},
   "outputs": [
    {
     "data": {
      "text/plain": [
       "action_taken\n",
       "1    20292801\n",
       "3     6637271\n",
       "4     5229282\n",
       "6     4095421\n",
       "5     1909630\n",
       "2     1088580\n",
       "8      457899\n",
       "7      181899\n",
       "Name: count, dtype: int64"
      ]
     },
     "execution_count": 14,
     "metadata": {},
     "output_type": "execute_result"
    }
   ],
   "source": [
    "data[\"action_taken\"].value_counts()"
   ]
  },
  {
   "cell_type": "markdown",
   "id": "61a87448",
   "metadata": {},
   "source": [
    "**Values:**\n",
    "- 1: Loan originated\n",
    "- 2: Application approved but not accepted\n",
    "- 3: Application denied\n",
    "- 4: Application withdrawn by applicant\n",
    "- 5: File closed for incompleteness\n",
    "- 6: Purchased loan\n",
    "- 7: Preapproval request denied\n",
    "- 8: Preapproval request approved but not accepted\n",
    "\n",
    "**Values will be grouped as:**\n",
    "- 1,2,8: Approved\n",
    "- 3,7: Denied\n",
    "\n",
    "**Values to be removed:**\n",
    "- 4, 5, 6"
   ]
  },
  {
   "cell_type": "code",
   "execution_count": 15,
   "id": "544499d3",
   "metadata": {},
   "outputs": [
    {
     "data": {
      "text/plain": [
       "<Axes: xlabel='action_taken'>"
      ]
     },
     "execution_count": 15,
     "metadata": {},
     "output_type": "execute_result"
    },
    {
     "data": {
      "image/png": "[encoded data removed]",
      "text/plain": [
       "<Figure size 640x480 with 1 Axes>"
      ]
     },
     "metadata": {},
     "output_type": "display_data"
    }
   ],
   "source": [
    "data['action_taken'].value_counts().plot(kind='bar')"
   ]
  },
  {
   "cell_type": "code",
   "execution_count": 46,
   "id": "1fbb6e60",
   "metadata": {},
   "outputs": [
    {
     "data": {
      "text/plain": [
       "loan_purpose\n",
       "1     21033865\n",
       "32     6526426\n",
       "31     4228661\n",
       "4      4014477\n",
       "2      3941155\n",
       "5       148199\n",
       "Name: count, dtype: int64"
      ]
     },
     "execution_count": 46,
     "metadata": {},
     "output_type": "execute_result"
    }
   ],
   "source": [
    "data['loan_purpose'].value_counts()"
   ]
  },
  {
   "cell_type": "code",
   "execution_count": 16,
   "id": "b7c36df7",
   "metadata": {},
   "outputs": [],
   "source": [
    "approved_data = data[(data['action_taken'] == 1) | (data['action_taken'] == 2) | (data['action_taken'] == 8)]\n",
    "denied_data = data[(data['action_taken'] == 3) | (data['action_taken'] == 7)]"
   ]
  },
  {
   "cell_type": "code",
   "execution_count": 17,
   "id": "9ab0d8c6",
   "metadata": {},
   "outputs": [
    {
     "name": "stdout",
     "output_type": "stream",
     "text": [
      "(21839280, 99)\n",
      "(6819170, 99)\n"
     ]
    }
   ],
   "source": [
    "print(approved_data.shape)\n",
    "print(denied_data.shape)"
   ]
  },
  {
   "cell_type": "code",
   "execution_count": 18,
   "id": "ad151445",
   "metadata": {},
   "outputs": [
    {
     "name": "stdout",
     "output_type": "stream",
     "text": [
      "21839280\n",
      "6819170\n"
     ]
    }
   ],
   "source": [
    "#verify row count\n",
    "print(data[data['action_taken'] == 1].shape[0] + data[data['action_taken'] == 2].shape[0] + data[data['action_taken'] == 8].shape[0])\n",
    "print(data[data['action_taken'] == 3].shape[0] + data[data['action_taken'] == 7].shape[0])"
   ]
  },
  {
   "cell_type": "code",
   "execution_count": 19,
   "id": "27cdc219",
   "metadata": {},
   "outputs": [],
   "source": [
    "df = pd.concat([approved_data, denied_data], ignore_index=True)"
   ]
  },
  {
   "cell_type": "code",
   "execution_count": 20,
   "id": "e4597392",
   "metadata": {},
   "outputs": [
    {
     "data": {
      "text/plain": [
       "(28658450, 99)"
      ]
     },
     "execution_count": 20,
     "metadata": {},
     "output_type": "execute_result"
    }
   ],
   "source": [
    "df.shape"
   ]
  },
  {
   "cell_type": "code",
   "execution_count": 21,
   "id": "584e2a4a",
   "metadata": {},
   "outputs": [
    {
     "name": "stdout",
     "output_type": "stream",
     "text": [
      "28658450\n"
     ]
    }
   ],
   "source": [
    "# verify\n",
    "print(approved_data.shape[0] + denied_data.shape[0])"
   ]
  },
  {
   "cell_type": "code",
   "execution_count": 22,
   "id": "d4403d6b",
   "metadata": {},
   "outputs": [
    {
     "data": {
      "text/html": [
       "<div>\n",
       "<style scoped>\n",
       "    .dataframe tbody tr th:only-of-type {\n",
       "        vertical-align: middle;\n",
       "    }\n",
       "\n",
       "    .dataframe tbody tr th {\n",
       "        vertical-align: top;\n",
       "    }\n",
       "\n",
       "    .dataframe thead th {\n",
       "        text-align: right;\n",
       "    }\n",
       "</style>\n",
       "<table border=\"1\" class=\"dataframe\">\n",
       "  <thead>\n",
       "    <tr style=\"text-align: right;\">\n",
       "      <th></th>\n",
       "      <th>activity_year</th>\n",
       "      <th>lei</th>\n",
       "      <th>derived_msa-md</th>\n",
       "      <th>state_code</th>\n",
       "      <th>county_code</th>\n",
       "      <th>census_tract</th>\n",
       "      <th>conforming_loan_limit</th>\n",
       "      <th>derived_loan_product_type</th>\n",
       "      <th>derived_dwelling_category</th>\n",
       "      <th>derived_ethnicity</th>\n",
       "      <th>...</th>\n",
       "      <th>denial_reason-2</th>\n",
       "      <th>denial_reason-3</th>\n",
       "      <th>denial_reason-4</th>\n",
       "      <th>tract_population</th>\n",
       "      <th>tract_minority_population_percent</th>\n",
       "      <th>ffiec_msa_md_median_family_income</th>\n",
       "      <th>tract_to_msa_income_percentage</th>\n",
       "      <th>tract_owner_occupied_units</th>\n",
       "      <th>tract_one_to_four_family_homes</th>\n",
       "      <th>tract_median_age_of_housing_units</th>\n",
       "    </tr>\n",
       "  </thead>\n",
       "  <tbody>\n",
       "    <tr>\n",
       "      <th>0</th>\n",
       "      <td>2022</td>\n",
       "      <td>254900ACUWEGW702BR80</td>\n",
       "      <td>35614</td>\n",
       "      <td>NY</td>\n",
       "      <td>36061.0</td>\n",
       "      <td>36061016002.0</td>\n",
       "      <td>C</td>\n",
       "      <td>Conventional:First Lien</td>\n",
       "      <td>Single Family (1-4 Units):Site-Built</td>\n",
       "      <td>Not Hispanic or Latino</td>\n",
       "      <td>...</td>\n",
       "      <td>NaN</td>\n",
       "      <td>NaN</td>\n",
       "      <td>NaN</td>\n",
       "      <td>3607</td>\n",
       "      <td>36.57</td>\n",
       "      <td>99000</td>\n",
       "      <td>152.12</td>\n",
       "      <td>440</td>\n",
       "      <td>55</td>\n",
       "      <td>0</td>\n",
       "    </tr>\n",
       "    <tr>\n",
       "      <th>1</th>\n",
       "      <td>2022</td>\n",
       "      <td>254900ACUWEGW702BR80</td>\n",
       "      <td>35614</td>\n",
       "      <td>NY</td>\n",
       "      <td>36005.0</td>\n",
       "      <td>36005043400.0</td>\n",
       "      <td>C</td>\n",
       "      <td>Conventional:First Lien</td>\n",
       "      <td>Single Family (1-4 Units):Site-Built</td>\n",
       "      <td>Not Hispanic or Latino</td>\n",
       "      <td>...</td>\n",
       "      <td>NaN</td>\n",
       "      <td>NaN</td>\n",
       "      <td>NaN</td>\n",
       "      <td>3649</td>\n",
       "      <td>95.09</td>\n",
       "      <td>99000</td>\n",
       "      <td>102.35</td>\n",
       "      <td>550</td>\n",
       "      <td>879</td>\n",
       "      <td>77</td>\n",
       "    </tr>\n",
       "    <tr>\n",
       "      <th>2</th>\n",
       "      <td>2022</td>\n",
       "      <td>254900ACUWEGW702BR80</td>\n",
       "      <td>35614</td>\n",
       "      <td>NY</td>\n",
       "      <td>36081.0</td>\n",
       "      <td>36081071100.0</td>\n",
       "      <td>C</td>\n",
       "      <td>Conventional:First Lien</td>\n",
       "      <td>Single Family (1-4 Units):Site-Built</td>\n",
       "      <td>Not Hispanic or Latino</td>\n",
       "      <td>...</td>\n",
       "      <td>NaN</td>\n",
       "      <td>NaN</td>\n",
       "      <td>NaN</td>\n",
       "      <td>5687</td>\n",
       "      <td>55.57</td>\n",
       "      <td>99000</td>\n",
       "      <td>132.73</td>\n",
       "      <td>1769</td>\n",
       "      <td>597</td>\n",
       "      <td>65</td>\n",
       "    </tr>\n",
       "    <tr>\n",
       "      <th>3</th>\n",
       "      <td>2022</td>\n",
       "      <td>254900ACUWEGW702BR80</td>\n",
       "      <td>35614</td>\n",
       "      <td>NY</td>\n",
       "      <td>36047.0</td>\n",
       "      <td>36047058400.0</td>\n",
       "      <td>C</td>\n",
       "      <td>Conventional:First Lien</td>\n",
       "      <td>Single Family (1-4 Units):Site-Built</td>\n",
       "      <td>Ethnicity Not Available</td>\n",
       "      <td>...</td>\n",
       "      <td>NaN</td>\n",
       "      <td>NaN</td>\n",
       "      <td>NaN</td>\n",
       "      <td>3797</td>\n",
       "      <td>32.76</td>\n",
       "      <td>99000</td>\n",
       "      <td>87.91</td>\n",
       "      <td>443</td>\n",
       "      <td>610</td>\n",
       "      <td>59</td>\n",
       "    </tr>\n",
       "    <tr>\n",
       "      <th>4</th>\n",
       "      <td>2022</td>\n",
       "      <td>254900ACUWEGW702BR80</td>\n",
       "      <td>22744</td>\n",
       "      <td>FL</td>\n",
       "      <td>12011.0</td>\n",
       "      <td>12011090502.0</td>\n",
       "      <td>NC</td>\n",
       "      <td>Conventional:First Lien</td>\n",
       "      <td>Single Family (1-4 Units):Site-Built</td>\n",
       "      <td>Not Hispanic or Latino</td>\n",
       "      <td>...</td>\n",
       "      <td>NaN</td>\n",
       "      <td>NaN</td>\n",
       "      <td>NaN</td>\n",
       "      <td>7056</td>\n",
       "      <td>33.80</td>\n",
       "      <td>82100</td>\n",
       "      <td>128.85</td>\n",
       "      <td>1914</td>\n",
       "      <td>2062</td>\n",
       "      <td>42</td>\n",
       "    </tr>\n",
       "  </tbody>\n",
       "</table>\n",
       "<p>5 rows × 99 columns</p>\n",
       "</div>"
      ],
      "text/plain": [
       "   activity_year                   lei  derived_msa-md state_code  \\\n",
       "0           2022  254900ACUWEGW702BR80           35614         NY   \n",
       "1           2022  254900ACUWEGW702BR80           35614         NY   \n",
       "2           2022  254900ACUWEGW702BR80           35614         NY   \n",
       "3           2022  254900ACUWEGW702BR80           35614         NY   \n",
       "4           2022  254900ACUWEGW702BR80           22744         FL   \n",
       "\n",
       "   county_code   census_tract conforming_loan_limit derived_loan_product_type  \\\n",
       "0      36061.0  36061016002.0                     C   Conventional:First Lien   \n",
       "1      36005.0  36005043400.0                     C   Conventional:First Lien   \n",
       "2      36081.0  36081071100.0                     C   Conventional:First Lien   \n",
       "3      36047.0  36047058400.0                     C   Conventional:First Lien   \n",
       "4      12011.0  12011090502.0                    NC   Conventional:First Lien   \n",
       "\n",
       "              derived_dwelling_category        derived_ethnicity  ...  \\\n",
       "0  Single Family (1-4 Units):Site-Built   Not Hispanic or Latino  ...   \n",
       "1  Single Family (1-4 Units):Site-Built   Not Hispanic or Latino  ...   \n",
       "2  Single Family (1-4 Units):Site-Built   Not Hispanic or Latino  ...   \n",
       "3  Single Family (1-4 Units):Site-Built  Ethnicity Not Available  ...   \n",
       "4  Single Family (1-4 Units):Site-Built   Not Hispanic or Latino  ...   \n",
       "\n",
       "  denial_reason-2 denial_reason-3  denial_reason-4  tract_population  \\\n",
       "0             NaN             NaN              NaN              3607   \n",
       "1             NaN             NaN              NaN              3649   \n",
       "2             NaN             NaN              NaN              5687   \n",
       "3             NaN             NaN              NaN              3797   \n",
       "4             NaN             NaN              NaN              7056   \n",
       "\n",
       "   tract_minority_population_percent  ffiec_msa_md_median_family_income  \\\n",
       "0                              36.57                              99000   \n",
       "1                              95.09                              99000   \n",
       "2                              55.57                              99000   \n",
       "3                              32.76                              99000   \n",
       "4                              33.80                              82100   \n",
       "\n",
       "   tract_to_msa_income_percentage  tract_owner_occupied_units  \\\n",
       "0                          152.12                         440   \n",
       "1                          102.35                         550   \n",
       "2                          132.73                        1769   \n",
       "3                           87.91                         443   \n",
       "4                          128.85                        1914   \n",
       "\n",
       "   tract_one_to_four_family_homes  tract_median_age_of_housing_units  \n",
       "0                              55                                  0  \n",
       "1                             879                                 77  \n",
       "2                             597                                 65  \n",
       "3                             610                                 59  \n",
       "4                            2062                                 42  \n",
       "\n",
       "[5 rows x 99 columns]"
      ]
     },
     "execution_count": 22,
     "metadata": {},
     "output_type": "execute_result"
    }
   ],
   "source": [
    "df.head()"
   ]
  },
  {
   "cell_type": "code",
   "execution_count": 23,
   "id": "4a1c5b29",
   "metadata": {},
   "outputs": [
    {
     "name": "stdout",
     "output_type": "stream",
     "text": [
      "Rows removed: 11,234,333\n"
     ]
    }
   ],
   "source": [
    "# Amout of rows removed because of application incompleteness, withdrawal, or other reasons\n",
    "row_removed = data.shape[0] - df.shape[0]\n",
    "print(f\"Rows removed: {row_removed:,}\")"
   ]
  },
  {
   "cell_type": "code",
   "execution_count": 25,
   "id": "f20d5ef6",
   "metadata": {},
   "outputs": [],
   "source": [
    "df.to_csv('../Step 2/df_trimmed.csv', index=False)"
   ]
  },
  {
   "cell_type": "code",
   "execution_count": null,
   "id": "9b449255",
   "metadata": {},
   "outputs": [],
   "source": []
  }
 ],
 "metadata": {
  "kernelspec": {
   "display_name": ".venv",
   "language": "python",
   "name": "python3"
  },
  "language_info": {
   "codemirror_mode": {
    "name": "ipython",
    "version": 3
   },
   "file_extension": ".py",
   "mimetype": "text/x-python",
   "name": "python",
   "nbconvert_exporter": "python",
   "pygments_lexer": "ipython3",
   "version": "3.13.7"
  }
 },
 "nbformat": 4,
 "nbformat_minor": 5
}
